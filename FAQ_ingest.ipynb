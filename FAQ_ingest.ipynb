{
  "nbformat": 4,
  "nbformat_minor": 0,
  "metadata": {
    "colab": {
      "provenance": []
    },
    "kernelspec": {
      "name": "python3",
      "display_name": "Python 3"
    },
    "language_info": {
      "name": "python"
    }
  },
  "cells": [
    {
      "cell_type": "code",
      "source": [
        "pip install -qU langchain"
      ],
      "metadata": {
        "colab": {
          "base_uri": "https://localhost:8080/"
        },
        "id": "gOCgah0lYWWT",
        "outputId": "972ad625-38ff-4e71-fadf-da9f5aad0f2c"
      },
      "execution_count": 1,
      "outputs": [
        {
          "output_type": "stream",
          "name": "stdout",
          "text": [
            "\u001b[2K     \u001b[90m━━━━━━━━━━━━━━━━━━━━━━━━━━━━━━━━━━━━━━━\u001b[0m \u001b[32m530.5/530.5 kB\u001b[0m \u001b[31m8.0 MB/s\u001b[0m eta \u001b[36m0:00:00\u001b[0m\n",
            "\u001b[2K     \u001b[90m━━━━━━━━━━━━━━━━━━━━━━━━━━━━━━━━━━━━━━━━\u001b[0m \u001b[32m1.6/1.6 MB\u001b[0m \u001b[31m18.6 MB/s\u001b[0m eta \u001b[36m0:00:00\u001b[0m\n",
            "\u001b[2K     \u001b[90m━━━━━━━━━━━━━━━━━━━━━━━━━━━━━━━━━━━━━━━━\u001b[0m \u001b[32m1.0/1.0 MB\u001b[0m \u001b[31m10.4 MB/s\u001b[0m eta \u001b[36m0:00:00\u001b[0m\n",
            "\u001b[2K     \u001b[90m━━━━━━━━━━━━━━━━━━━━━━━━━━━━━━━━━━━━━━━━\u001b[0m \u001b[32m90.0/90.0 kB\u001b[0m \u001b[31m6.6 MB/s\u001b[0m eta \u001b[36m0:00:00\u001b[0m\n",
            "\u001b[2K     \u001b[90m━━━━━━━━━━━━━━━━━━━━━━━━━━━━━━━━━━━━━━━━\u001b[0m \u001b[32m44.9/44.9 kB\u001b[0m \u001b[31m3.4 MB/s\u001b[0m eta \u001b[36m0:00:00\u001b[0m\n",
            "\u001b[2K     \u001b[90m━━━━━━━━━━━━━━━━━━━━━━━━━━━━━━━━━━━━━━━\u001b[0m \u001b[32m114.2/114.2 kB\u001b[0m \u001b[31m3.8 MB/s\u001b[0m eta \u001b[36m0:00:00\u001b[0m\n",
            "\u001b[2K     \u001b[90m━━━━━━━━━━━━━━━━━━━━━━━━━━━━━━━━━━━━━━━\u001b[0m \u001b[32m158.8/158.8 kB\u001b[0m \u001b[31m9.9 MB/s\u001b[0m eta \u001b[36m0:00:00\u001b[0m\n",
            "\u001b[2K     \u001b[90m━━━━━━━━━━━━━━━━━━━━━━━━━━━━━━━━━━━━━━\u001b[0m \u001b[32m264.6/264.6 kB\u001b[0m \u001b[31m15.8 MB/s\u001b[0m eta \u001b[36m0:00:00\u001b[0m\n",
            "\u001b[2K     \u001b[90m━━━━━━━━━━━━━━━━━━━━━━━━━━━━━━━━━━━━━━━━\u001b[0m \u001b[32m49.1/49.1 kB\u001b[0m \u001b[31m3.6 MB/s\u001b[0m eta \u001b[36m0:00:00\u001b[0m\n",
            "\u001b[2K     \u001b[90m━━━━━━━━━━━━━━━━━━━━━━━━━━━━━━━━━━━━━━━━\u001b[0m \u001b[32m70.3/70.3 kB\u001b[0m \u001b[31m6.1 MB/s\u001b[0m eta \u001b[36m0:00:00\u001b[0m\n",
            "\u001b[?25h"
          ]
        }
      ]
    },
    {
      "cell_type": "code",
      "source": [
        "pip install -qU tiktoken # needed for OpenAIEmbeddings"
      ],
      "metadata": {
        "colab": {
          "base_uri": "https://localhost:8080/"
        },
        "id": "vWzL232ohXx2",
        "outputId": "74924f9f-2b6e-4396-9e15-dda30717444c"
      },
      "execution_count": 2,
      "outputs": [
        {
          "output_type": "stream",
          "name": "stdout",
          "text": [
            "\u001b[?25l     \u001b[90m━━━━━━━━━━━━━━━━━━━━━━━━━━━━━━━━━━━━━━━━\u001b[0m \u001b[32m0.0/1.7 MB\u001b[0m \u001b[31m?\u001b[0m eta \u001b[36m-:--:--\u001b[0m\r\u001b[2K     \u001b[91m━━━━━━━\u001b[0m\u001b[91m╸\u001b[0m\u001b[90m━━━━━━━━━━━━━━━━━━━━━━━━━━━━━━━━\u001b[0m \u001b[32m0.3/1.7 MB\u001b[0m \u001b[31m11.4 MB/s\u001b[0m eta \u001b[36m0:00:01\u001b[0m\r\u001b[2K     \u001b[91m━━━━━━━━━━━━━━━━━━━━━━━━━━━━━━━━━━━━━━━\u001b[0m\u001b[91m╸\u001b[0m \u001b[32m1.7/1.7 MB\u001b[0m \u001b[31m31.0 MB/s\u001b[0m eta \u001b[36m0:00:01\u001b[0m\r\u001b[2K     \u001b[90m━━━━━━━━━━━━━━━━━━━━━━━━━━━━━━━━━━━━━━━━\u001b[0m \u001b[32m1.7/1.7 MB\u001b[0m \u001b[31m21.4 MB/s\u001b[0m eta \u001b[36m0:00:00\u001b[0m\n",
            "\u001b[?25h"
          ]
        }
      ]
    },
    {
      "cell_type": "code",
      "source": [
        "pip install -qU faiss-cpu"
      ],
      "metadata": {
        "colab": {
          "base_uri": "https://localhost:8080/"
        },
        "id": "amH3j03riFws",
        "outputId": "6fe75499-7256-490b-b937-04bf00ab8e6e"
      },
      "execution_count": 3,
      "outputs": [
        {
          "output_type": "stream",
          "name": "stdout",
          "text": [
            "\u001b[?25l     \u001b[90m━━━━━━━━━━━━━━━━━━━━━━━━━━━━━━━━━━━━━━━━\u001b[0m \u001b[32m0.0/17.0 MB\u001b[0m \u001b[31m?\u001b[0m eta \u001b[36m-:--:--\u001b[0m\r\u001b[2K     \u001b[91m╸\u001b[0m\u001b[90m━━━━━━━━━━━━━━━━━━━━━━━━━━━━━━━━━━━━━━━\u001b[0m \u001b[32m0.4/17.0 MB\u001b[0m \u001b[31m10.6 MB/s\u001b[0m eta \u001b[36m0:00:02\u001b[0m\r\u001b[2K     \u001b[91m━━━━━━━━\u001b[0m\u001b[90m╺\u001b[0m\u001b[90m━━━━━━━━━━━━━━━━━━━━━━━━━━━━━━━\u001b[0m \u001b[32m3.4/17.0 MB\u001b[0m \u001b[31m49.3 MB/s\u001b[0m eta \u001b[36m0:00:01\u001b[0m\r\u001b[2K     \u001b[91m━━━━━━━━━━━━━━━━━━━━\u001b[0m\u001b[91m╸\u001b[0m\u001b[90m━━━━━━━━━━━━━━━━━━━\u001b[0m \u001b[32m8.9/17.0 MB\u001b[0m \u001b[31m84.9 MB/s\u001b[0m eta \u001b[36m0:00:01\u001b[0m\r\u001b[2K     \u001b[91m━━━━━━━━━━━━━━━━━━━━━━━━━━━━━━━━━━\u001b[0m\u001b[90m╺\u001b[0m\u001b[90m━━━━\u001b[0m \u001b[32m14.8/17.0 MB\u001b[0m \u001b[31m167.2 MB/s\u001b[0m eta \u001b[36m0:00:01\u001b[0m\r\u001b[2K     \u001b[91m━━━━━━━━━━━━━━━━━━━━━━━━━━━━━━━━━━━━━━\u001b[0m\u001b[91m╸\u001b[0m \u001b[32m17.0/17.0 MB\u001b[0m \u001b[31m165.9 MB/s\u001b[0m eta \u001b[36m0:00:01\u001b[0m\r\u001b[2K     \u001b[91m━━━━━━━━━━━━━━━━━━━━━━━━━━━━━━━━━━━━━━\u001b[0m\u001b[91m╸\u001b[0m \u001b[32m17.0/17.0 MB\u001b[0m \u001b[31m165.9 MB/s\u001b[0m eta \u001b[36m0:00:01\u001b[0m\r\u001b[2K     \u001b[90m━━━━━━━━━━━━━━━━━━━━━━━━━━━━━━━━━━━━━━━━\u001b[0m \u001b[32m17.0/17.0 MB\u001b[0m \u001b[31m72.1 MB/s\u001b[0m eta \u001b[36m0:00:00\u001b[0m\n",
            "\u001b[?25h"
          ]
        }
      ]
    },
    {
      "cell_type": "code",
      "execution_count": 4,
      "metadata": {
        "id": "QBACMfRtYQb5"
      },
      "outputs": [],
      "source": [
        "from langchain.document_loaders import TextLoader\n",
        "from langchain.text_splitter import RecursiveCharacterTextSplitter\n",
        "from langchain.embeddings import OpenAIEmbeddings\n",
        "from langchain.vectorstores.faiss import FAISS\n",
        "\n",
        "import pickle\n",
        "import os"
      ]
    },
    {
      "cell_type": "markdown",
      "source": [
        "Here I will be working with the FAQ list that I used in my previous [Museum FAQ project](https://github.com/umbertoselva/Museum-FAQ-Chatbot)"
      ],
      "metadata": {
        "id": "vTomM6m1Zp5s"
      }
    },
    {
      "cell_type": "code",
      "source": [
        "pwd"
      ],
      "metadata": {
        "colab": {
          "base_uri": "https://localhost:8080/",
          "height": 35
        },
        "id": "a1c9nPe4alzW",
        "outputId": "78e18ade-d520-4d64-ef5a-f18d94bdb243"
      },
      "execution_count": 5,
      "outputs": [
        {
          "output_type": "execute_result",
          "data": {
            "text/plain": [
              "'/content'"
            ],
            "application/vnd.google.colaboratory.intrinsic+json": {
              "type": "string"
            }
          },
          "metadata": {},
          "execution_count": 5
        }
      ]
    },
    {
      "cell_type": "code",
      "source": [
        "ls"
      ],
      "metadata": {
        "colab": {
          "base_uri": "https://localhost:8080/"
        },
        "id": "IM6wbEchasOs",
        "outputId": "eb072c18-11d5-4fa5-8227-7e609104b676"
      },
      "execution_count": 6,
      "outputs": [
        {
          "output_type": "stream",
          "name": "stdout",
          "text": [
            "FAQ.txt  \u001b[0m\u001b[01;34msample_data\u001b[0m/\n"
          ]
        }
      ]
    },
    {
      "cell_type": "code",
      "source": [
        "# Load text\n",
        "loader = TextLoader(\"FAQ.txt\")\n",
        "faq_raw_text = loader.load()"
      ],
      "metadata": {
        "id": "kYuqza1TZO8-"
      },
      "execution_count": 7,
      "outputs": []
    },
    {
      "cell_type": "code",
      "source": [
        "# Split text\n",
        "text_splitter = RecursiveCharacterTextSplitter()\n",
        "faq_split_text = text_splitter.split_documents(faq_raw_text)"
      ],
      "metadata": {
        "id": "vftRTy0DbYvt"
      },
      "execution_count": 8,
      "outputs": []
    },
    {
      "cell_type": "code",
      "source": [
        "type(faq_split_text)"
      ],
      "metadata": {
        "colab": {
          "base_uri": "https://localhost:8080/"
        },
        "id": "sJo6X1ljdhY7",
        "outputId": "a0d76e66-a55a-4220-ada3-520df2b91a48"
      },
      "execution_count": 9,
      "outputs": [
        {
          "output_type": "execute_result",
          "data": {
            "text/plain": [
              "list"
            ]
          },
          "metadata": {},
          "execution_count": 9
        }
      ]
    },
    {
      "cell_type": "code",
      "source": [
        "faq_split_text"
      ],
      "metadata": {
        "colab": {
          "base_uri": "https://localhost:8080/"
        },
        "id": "mlvgne4bdkDg",
        "outputId": "a239eacc-0cf7-4e9d-b098-5c9d5c1dc60f"
      },
      "execution_count": 10,
      "outputs": [
        {
          "output_type": "execute_result",
          "data": {
            "text/plain": [
              "[Document(page_content='0. What are the opening hours? When is the museum open?\\nThe Stedelijk is open daily from 10 am to 6 pm, 365 days a year, also during the holidays.\\n\\n1. Does the museum have a Priority Lane? \\nYes, the Priority Lane is available for Stedelijk Friends, Stedelijk VIP-card holders, and Stedelijk Annual Card holders. We are doing all that we can to regulate the flow of visitors and ensure their safety.\\n\\n2. How can I buy a ticket? Can I buy my tickets online? \\nIt is possible to book an online dayticket before you visit the museum. You can also buy a ticket directly at the register desk in the museum. Please read our info about your\\xa0visit & safety before you visit.\\n\\n3. I have a Museum card (Museumkaart) or other valid admission ticket. Do I also need to buy an online ticket? \\nIt is possible to book an online day ticket before you visit the museum. This also goes for visitors with a Museum card, another discount card, or valid entrance ticket (Museumkaart, Friends of the Stedelijk Museum, Young Stedelijk Members, Rembrandtkaart, ICOM, Stadspas, Iamsterdam City Card, Amsterdam Pass, Holland Pass, Stedelijk Lerarenpas, VriendenLoterij VIP-KAART). If you already have a valid entrance ticket, select the option \\'Entrance Museumkaart\\' or \\'I already have an entrance ticket/card/voucher\\'. Be sure that you also bring your Museum card with you when you visit the museum.\\xa0Children and young people up to the age of 18 have free access if accompanied by an adult with a valid entrance ticket.\\n\\n4. Do I need to print out my ticket(s)? \\nIt is enough to show your ticket on your smartphone. Enhance the brightness on your mobile phone if necessary.\\n\\n5. Can I purchase a Museum Card at the Stedelijk Museum? It is possible to buy a Museumkaart at the Stedelijk Museum. You can use your Museumkaart immediately. Cards can also be ordered through the website of Museumkaart. Please bring your Museum Card when you visit the museum.\\n6. How much are tickets for students and children? Students receive a discount of 50% on the admission price. Entrance to the Stedelijk is free for children and young people up to the age of 18. We recommend booking a (free) ticket online before you visit to skip any queues at the counter. When booking your tickets online, choose one of the options CJP/Student/18- in our ticketshop. Children under the age of 18 can only enter the museum if they are accompanied by an adult(s) who has a valid entrance ticket.\\n\\n7. I won’t be able to visit the museum. Can I give my ticket to someone else? \\nYes, you can give your ticket to another person. But this only applies to regular tickets, not to discounted tickets or tickets bought by Museumkaart holders.\\n\\n8. I am a Member of the museum. Do I also need to buy an online ticket? \\nFor Members it is not necessary to book an online ticket in advance. This applies to all types of Memberships (Vriend, Familievriend, Donateur, Young Stedelijk and Stedelijk Circle). Make sure to bring your personal membership card.\\n\\n9. Can I cancel the ticket I bought?\\nWe don’t refund money for purchased tickets. Tickets are valid for twelve months after the date of purchase. If you can’t use your ticket on the date you reserved, you can easily book a new ticket on the date of your preference through our ticketshop. Choose the date and then the option \"\"I already have a valid entrance ticket\"\".\\n\\n10. I haven’t received my ticket. What should I do?\\nCheck your spam folder. If the ticket isn’t there, mail us at reserveringen@stedelijk.nl.\\n\\n11. I still have a question about my ticket\\n\"If you have questions about your ticket(s) that are not answered in this FAQ, email us at reserveringen@stedelijk.nl or call us during office hours: 020-5732911. If you have other questions, go to www.stedelijk.nl/bezoeken or email us at info@stedelijk.nl.\\n\\n12. I don\\'t have access to internet and/or a smartphone. How can I reserve a ticket? I\\nt is also possible to buy a ticket at the counter for a spontaneous visit.', metadata={'source': 'FAQ.txt'}),\n",
              " Document(page_content='12. I don\\'t have access to internet and/or a smartphone. How can I reserve a ticket? I\\nt is also possible to buy a ticket at the counter for a spontaneous visit.\\n\\n13. Is there a restaurant or a café? \\nWhen are the restaurant and café open? Restaurant TEN is open daily from 10 am - 6 pm. The Zadelhoff Café (inside the museum) daily from 11 am - 3 pm.\\n\\n14. Does the museum have lockers, as well as a Cloakroom? \\nA supervised cloakroom is available for coats and small items of luggage. The museum does not provide the use of lockers because of the safety measures. Handbags are permitted in the museum galleries (max. size A3). You may not bring backpacks and/or weekend cases into the museum. Lockerpoint at the Museumplein provides storage space for luggage.\\n\\n15. Can I leave my suitcase or trolley? \\nUnfortunately, we can not take any large-sized luggage because of safety reasons. On the Museumsquare lockers for large-sized luggage are available. You can find them in the parking garage of Q-Park. Find more info on the website of Lockerpoint.\\n\\n16. Can I visit the museum with a group? \\nYou are welcome to visit the museum with a group. Groups up to 15 people max. can visit all exhibitions. If you are with a group of 15 people or more, then we kindly ask you to let us know beforehand and book a self-guided group visit. We would also like to know it if you visit with a smaller group. Let us know through educatie@stedelijk.nl\\n\\n17. How long can I stay at the museum? \\nThere is no limit on the length of your stay. Once you have entered the museum, you may stay until it closes.\\n\\n18. Is there a fixed route through the museum? \\nSometimes a specific exhibition has a fixed route, apart from that, you can wander freely the museum.\\n\\n19. What hygiene measures is the museum taking? \\nThe museum is cleaned frequently and thoroughly in line with the RIVM guidelines. The washrooms and objects that visitors come into frequent contact with such as handrails and lift buttons are regularly sanitized. Hand sanitizers are available in dispensers in the entrance area so you can sanitize your hands before entering the museum.\\n\\n20. Does the museum have a shop? Are there shops in the museum? Is the museum shop open? \\nThe shop is open and has the same opening hours as the museum (10 am - 6 pm). You do not need a ticket to visit the museum shop.\\n\\n21. I have a cold or flu symptoms. What should I do?\\nSorry to hear that! I you have a cold or symptoms of the flu, you have to stay home according to the rules of the National Health Institute (RIVM). You are welcome again when you and the other members of your household are without symptoms for at least 24 hours. You can easily set your ticket to another date through our ticketshop. Choose the option \"\"I already have a valid entrance ticket\"\". Get well soon!\\n\\n22. Does the museum have toilets? Are there toilets in the museum? Is there a toilet? Are the toilets open? Yes, our toilets are open to visitors of the museum. All of our toilets are gender-neutral.\\n\\n23. Is there a library? When is the library open? What are the library opening hours?\\nThe library of the Stedelijk Museum Amsterdam is open by appointment only, from Tuesday to Thursday 11 am - 4 pm. Please note, at the moment there is only room for researchers and students who want to use the collection of the library, unfortunately, we can’t accommodate those who just want to sit and work on their own research.\\nBook your appointment by sending an email to: bibliotheek@stedelijk.nl, tel. 020 – 573 26 50.\"\\n\\n24. Do I need a covid certificate (QR code) or negative test result to visit the museum? \\nYou do not need a QR-code or covid-certificate to visit the museum. This also applies to school groups, teachers and/or their guides.\\n\\n25. I haven’t been vaccinated but I want to visit the museum. Is that possible? \\nYou don’t need to be vaccinated to visit the museum.', metadata={'source': 'FAQ.txt'}),\n",
              " Document(page_content='25. I haven’t been vaccinated but I want to visit the museum. Is that possible? \\nYou don’t need to be vaccinated to visit the museum.\\n\\n26. Are face masks mandatory in the museum? \\nWearing a face mask is not compulsory in the museum and in the Museum Shop. However, you are allowed to wear one if you would like to do so.\\n\\n27. I only want to visit the shop. Do I need a ticket? \\nYou do not need a ticket to visit the museum shop.\\n\\n28. I want to visit with my students/pupils? What are the current safety measures for group visits? \\nYou are more than welcome to visit the museum again with your group. There are no additional measures for school groups at the museum at the moment.\\n\\n29. Can I take photographs in the museum?\\nYes. But only if the photographs are for personal use (please share them on social media :).\\nFlash photography is not permitted. If you require images for professional use, please email us at: repro@stedelijk.nl. For professional and/or press photography or video recordings, please contact our Press Office: pressoffice@stedelijk.nl.\"\\n\\n30. Will I be confronted with explicit imagery? \\nSome works of art at the Stedelijk Museum contain explicit or graphic imagery that could be experienced as offensive. Although a certain amount of provocation is inherent to modern and contemporary art, the museum will make visitors aware of possible explicit imagery when relevant.\\n\\n31. Are audio tours available? \\nYes. The museum provides free audio tours for the main and temporary exhibitions. The audio tours\\xa0are available in two languages (NL, EN). You can collect the audio tour device from a number of prominent places in the museum. Do not forget to return the device to the same place after your visit. You can also listen to the audio tours on your own mobile phone. Find a QR-code with a link and instructions on the cabinet where you can collect the audio tour or download the app in advance.\\n\\n32. May I bring food and/or beverages into the museum? \\nFood and beverages are not allowed in the museum.\\n\\n33. Can I use the toilet without a ticket? \\nDue to the current safety and health measures, it is only possible to use the toilet if you have an entrance ticket to the museum.\\n\\n34. Can I reserve a wheelchair? \\nYes. Please phone: +31 (0)20 5732 911 or email us at reserveringen@stedelijk.nl. The museum has four wheelchairs available for visitors, and several Alinkers (a stylish new kind of non-motorized mobility vehicle), which are specially designed mobility vehicles that look a little like a bicycle. The wheelchairs are thoroughly sanitized after each use. For more information about our facilities for disabled visitors, please visit our Accessibility page.\\n\\n35. May I bring my dog? Are animals allowed? \\nWith the exception of registered service dogs, animals are not permitted in the museum.\\n\\n36. Are there facilities for people with physical disabilities?\\nThe museum has lifts that are suitable for wheelchairs and also has toilets for people with physical disabilities. We also have plenty of staff in the entrance area who are ready to help visitors in wheelchairs who might need help to access the galleries. If you need assistance when leaving the museum, you only have to ask; our staff is happy to help. For more information about our facilities for disabled visitors, please visit our Accessibility page. A special toilet route is available for visitors with a physical disability.\\n\\n37. Is there somewhere where I can breastfeed or express milk in private? \\nYes, the museum has a safe space where you can breastfeed your baby. The museum’s general additional hygiene measures also apply here.\\n\\n38. Does the museum hold events?\\nYes, the museum hosts events regularly. Check out what\\'s on here. To keep up with the latest news, you can sign up for our newsletter here. If you would like to hire a venue at the museum to host an event, then get in touch and we’ll see what we can do for you.', metadata={'source': 'FAQ.txt'}),\n",
              " Document(page_content='39. How many artworks are featured in the permanent collection presentation? \\nThere are a total of around 500 art and design objects dating from 1870 to the present day.\\n\\n40. Can I be sure that my favorite artworks are on show? \\nYes. Around 400 highlights from the collection are on permanent display in STEDELIJK BASE. And in Tomorrow is a Different Day around 125. Some works in our collection, photographs, textiles, and works on paper, cannot be exhibited for longer than 3 consecutive months because they are too fragile. But the display always includes internationally famous artists and designers. The Stedelijk collection is large, and if a work is on loan to another institute, we can replace it with one of equal caliber.\\n\\n41. Are there children’s activities at the museum? \\nPlease check our Family page for the latest info about our family program.\\n\\n42. What time can I book a guided tour, a class tour, a school tour, a student tour or a group tour? How long is a tour? What is the duration of a tour?\\nAt present, we offer set timed tickets on Mondays, Tuesdays and Thursdays. You can choose from the following time slots:\\n10.15 - 11.45 am\\n12.00 - 1.30 pm\\n2.15 - 3.45 pm\\n4.00 - 5.30 pm\\nWhen you make a reservation, you will be shown the time slots that are available. If not enough slots are free, you can divide your group over different time slots. You can arrive at the group entrance at the Paulus Potterstraat about 10 minutes before the start of your visit and use the group cloakroom (if there is enough room).\\n\\n43. Where and how can I book a guided tour, a class tour, a school tour, a student tour or a group tour? \\nYou book the program you’ve chosen through our website. On top the page of the individual program there are several buttons for you to click through to the ticket system. Choose the button relevant to your school or student group and/or the Cultuurkaart. All our activities are grouped into two programs: In the museum, and Online. This applies to primary education, vocational, and higher education.\\n\\n44. Can I book a guided tour, a class tour, a school tour, a student tour or a group tour at times other than the specified time slots? \\nAll school visits must be pre-booked for a specific time slot. The available time slots are shown in our ticket system. You cannot book tours for any other times.\\n\\n45. How far in advance do I need to book a tour? \\nA tour can be booked until the first day of the month prior to the month of the visit. For example, if you’re planning a guided tour in April, you have until March 1 to make the reservation.\\n\\n46. What do tours cost? How much is a tour? How much for a school visit tour? \\nThe rate for a group tour of 1.5 hours is € 82.50 (including entrance fee). For an independent tour, each person pays the entrance fee. Admission to the Stedelijk Museum is free for visitors below the age of 18. Students pay 10 euros. Admission is free for Teachers/Group leaders. We do not offer a group discount.\\n\\n47. How can I pay? What are the payment methods?\\nWe offer the following payment methods:\\n- iDeal\\n- Credit card\\n- Cultuurkaart (VO/MBO)\\n- Voucher (PO)\\nUnfortunately there is no option to pay by invoice.\\n\\n48. How long before our time slot do we need to arrive? \\nYou can arrive at the group entrance on Paulus Potterstraat about 10 minutes before the start of your visit. You can use the group cloakroom there (if there is enough room).\\n\\n49. How many people / pupils or groups can I include in one visit? \\nYou can book a guided tour for up to 4 groups per time slot of 1.5 hours. The maximum group size is 15 (11 pupils for groups 1 to 3). Each group should be accompanied by a maximum of 2 teachers / group leaders from the school.\\n\\n50. How many group leaders do you expect per group? \\nEach group should be accompanied by a maximum of 2 teachers / group leaders from the school.', metadata={'source': 'FAQ.txt'}),\n",
              " Document(page_content=\"50. How many group leaders do you expect per group? \\nEach group should be accompanied by a maximum of 2 teachers / group leaders from the school.\\n\\n51. Do I need a coronavirus entry pass or QR code? \\nNo, school classes with pupils below the age of 18 years are exempt from the corona check. This also applies to their group leaders and teachers. Group leaders and teachers are not required to show a QR code.\\n\\n52. Do we have to keep a 1.5 M distance from each other as a class? \\nNo, from the 18th of February this won't be necessary anymore.\\n\\n53. Is a face mask mandatory? \\nNo, from 18 February onwards this won't be necessary anymore. However, you are allowed to wear one if you would like to.\\n\\n54. I want to visit the museum with my class or group but I would rather not book a tour. Can I book an independent group visit that is not a guided tour? Can I organize a self-guided tour? \\nYes, you can book an independent group visit. Independent group visits are possible on Tuesdays and Thursdays and on the time slots that we do not offer to other groups. The time slots appear automatically as available in the booking system when we close the bookings for the education programs. This always happens on the first day of the month. So, starting from the first of October, you can book an independent group visit on Tuesdays and Thursdays in November for the available time slots. You can book independent group visits – providing there’s availability – 24 hours before your visit.\\n\\n55. Can I change the duration of the tour? \\nAn abbreviated tour is possible, but you always pay for 1,5 hours. In case you want to book an abbreviated tour, you always go through the booking process first. Send an email after that to educatie@stedelijk.nl to tell your preferred start- and end time.\\n\\n56. Hello Hello, what can I do for you?\\n\\n57. How are you? I’m doing great, what can I do for you?\\n\\n58. Thank you, thanks, thanks for your help, goodbye, bye bye Thank you. Have a nice day!\\n\\n59. Can I cancel or reschedule a planned tour? \\nYou can cancel or reschedule a tour from the first day of the previous month of the booking. For example, when you’ve booked your tour for the 14th of June, you can cancel or reschedule this until the first of May.\\n\\n60. Do I have to apply for an independent group visit if it’s for a small group of students? \\nYes, you have to apply for independent group visit if you are with 5 or more people. You can do so here. For adults the maximum group size is 5 persons at the moment.\\n\\n61. Is it possible to adjust the content of a tour? \\nNo, this is not possible.\\n\\n62. Can my school class come by bus? \\nThe Museumpleinbus brings groups of schools from Primary Schools for free, safe and fast to the Stedelijk Museum. The Museumpleinbus is meant for pupils from group 6, 7 and 8 that booked the program De Stijl and for primary schools that are located in a radius of 60 kilometers starting from the ring A10.\\n\\n63. How long in advance does a class, school class, group need to be present? \\nYou can sign in your group approximately 10 minutes before the start of your visit, at the groupsentree at the Paulus Potterstraat. You can make use of the groups wardrobe there (if there’s enough space).\\n\\n64. Is there a place where we can meet as a self-guided independent group visit? \\nYou can meet up with your group at the following meeting points in the museum:\\xa0\\n- Under the stairs in Stedelijk Base (ground floor / -1)\\xa0\\n- At the artwork Woven Into The Fabric by Petra Blaisse and Desso, located in the entrance hall\\xa0\\n- At the Tajiri artwork (the sculpture with the big ‘knot’ next to the museum shop)\\xa0\\n- At the Barbara Kruger artwork (1st floor)\\xa0\\n- At the Paulus Potter entrance (tbc).\\n\\n65. Can I have lunch in the museum? \\nFood and drinks are only allowed in the Zadelhoff cafe and the TEN Good Food cafe. It is not possible to bring your own lunch in these places.\", metadata={'source': 'FAQ.txt'}),\n",
              " Document(page_content='65. Can I have lunch in the museum? \\nFood and drinks are only allowed in the Zadelhoff cafe and the TEN Good Food cafe. It is not possible to bring your own lunch in these places.\\n\\n66. What to do with delay or not being on time? \\nIn case of a delay, we kindly ask you to contact us directly. In this way, we can update all involved parties. The Stedelijk Museum is available during office hours through the phone number: 020-5732911. Unfortunately, the tour cannot be extended in case of a delay.\\n\\n67. How much are the tickets? \\nPlease visit our website to view our current admission prices.\\n\\n68. What is the current exhibit? \\nPlease visit the museum website to find out what the current exhibit is.', metadata={'source': 'FAQ.txt'})]"
            ]
          },
          "metadata": {},
          "execution_count": 10
        }
      ]
    },
    {
      "cell_type": "markdown",
      "source": [
        "In order to use the OpenAIEmbdeddings we need to provide an OpenAI API key"
      ],
      "metadata": {
        "id": "VnFIq1XJfWul"
      }
    },
    {
      "cell_type": "code",
      "source": [
        "from getpass import getpass\n",
        "os.environ[\"OPENAI_API_KEY\"] = getpass('Enter OpenAI API key: ')"
      ],
      "metadata": {
        "colab": {
          "base_uri": "https://localhost:8080/"
        },
        "id": "RM7iafmffbLZ",
        "outputId": "7dc97bbc-d46a-4458-abcc-2783fbd711d8"
      },
      "execution_count": 11,
      "outputs": [
        {
          "name": "stdout",
          "output_type": "stream",
          "text": [
            "Enter OpenAI API key: ··········\n"
          ]
        }
      ]
    },
    {
      "cell_type": "code",
      "source": [
        "# Load Data to vectorstore\n",
        "embeddings = OpenAIEmbeddings()\n",
        "faq_vectorstore = FAISS.from_documents(faq_split_text, embeddings)"
      ],
      "metadata": {
        "id": "M2l-VrukbZbI"
      },
      "execution_count": 12,
      "outputs": []
    },
    {
      "cell_type": "code",
      "source": [
        "# Save vectorstore\n",
        "with open(\"faq_vectorstore.pkl\", \"wb\") as f:\n",
        "    pickle.dump(faq_vectorstore, f)"
      ],
      "metadata": {
        "id": "-6B6Svgibcnd"
      },
      "execution_count": 14,
      "outputs": []
    },
    {
      "cell_type": "code",
      "source": [
        "ls"
      ],
      "metadata": {
        "colab": {
          "base_uri": "https://localhost:8080/"
        },
        "id": "kgcCLOTRbiEf",
        "outputId": "e3cb8a75-28c4-4ae9-dc89-21c164ae25a8"
      },
      "execution_count": 15,
      "outputs": [
        {
          "output_type": "stream",
          "name": "stdout",
          "text": [
            "FAQ.txt  faq_vectorstore.pkl  \u001b[0m\u001b[01;34msample_data\u001b[0m/\n"
          ]
        }
      ]
    }
  ]
}